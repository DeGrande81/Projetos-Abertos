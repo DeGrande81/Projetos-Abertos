{
  "nbformat": 4,
  "nbformat_minor": 0,
  "metadata": {
    "colab": {
      "provenance": [],
      "authorship_tag": "ABX9TyMMsCnGCMNK2RAhv4h3fC/U"
    },
    "kernelspec": {
      "name": "python3",
      "display_name": "Python 3"
    },
    "language_info": {
      "name": "python"
    }
  },
  "cells": [
    {
      "cell_type": "code",
      "source": [
        "import pandas as pd\n",
        "import numpy as np"
      ],
      "metadata": {
        "id": "65Q-rNYLbjwd"
      },
      "execution_count": 1,
      "outputs": []
    },
    {
      "cell_type": "code",
      "source": [
        "dados = pd.read_csv('/president_heights.csv')"
      ],
      "metadata": {
        "id": "AN0yAziockvS"
      },
      "execution_count": 4,
      "outputs": []
    },
    {
      "cell_type": "code",
      "source": [
        "print (dados)"
      ],
      "metadata": {
        "colab": {
          "base_uri": "https://localhost:8080/"
        },
        "id": "UjA75z3zc29K",
        "outputId": "13e1917f-be76-45a0-9638-aec64852b042"
      },
      "execution_count": 5,
      "outputs": [
        {
          "output_type": "stream",
          "name": "stdout",
          "text": [
            "    order                    name  height(cm)\n",
            "0       1       George Washington         189\n",
            "1       2              John Adams         170\n",
            "2       3        Thomas Jefferson         189\n",
            "3       4           James Madison         163\n",
            "4       5            James Monroe         183\n",
            "5       6       John Quincy Adams         171\n",
            "6       7          Andrew Jackson         185\n",
            "7       8        Martin Van Buren         168\n",
            "8       9  William Henry Harrison         173\n",
            "9      10              John Tyler         183\n",
            "10     11           James K. Polk         173\n",
            "11     12          Zachary Taylor         173\n",
            "12     13        Millard Fillmore         175\n",
            "13     14         Franklin Pierce         178\n",
            "14     15          James Buchanan         183\n",
            "15     16         Abraham Lincoln         193\n",
            "16     17          Andrew Johnson         178\n",
            "17     18        Ulysses S. Grant         173\n",
            "18     19     Rutherford B. Hayes         174\n",
            "19     20       James A. Garfield         183\n",
            "20     21       Chester A. Arthur         183\n",
            "21     23       Benjamin Harrison         168\n",
            "22     25        William McKinley         170\n",
            "23     26      Theodore Roosevelt         178\n",
            "24     27     William Howard Taft         182\n",
            "25     28          Woodrow Wilson         180\n",
            "26     29       Warren G. Harding         183\n",
            "27     30         Calvin Coolidge         178\n",
            "28     31          Herbert Hoover         182\n",
            "29     32   Franklin D. Roosevelt         188\n",
            "30     33         Harry S. Truman         175\n",
            "31     34    Dwight D. Eisenhower         179\n",
            "32     35         John F. Kennedy         183\n",
            "33     36       Lyndon B. Johnson         193\n",
            "34     37           Richard Nixon         182\n",
            "35     38             Gerald Ford         183\n",
            "36     39            Jimmy Carter         177\n",
            "37     40           Ronald Reagan         185\n",
            "38     41       George H. W. Bush         188\n",
            "39     42            Bill Clinton         188\n",
            "40     43          George W. Bush         182\n",
            "41     44            Barack Obama         185\n"
          ]
        }
      ]
    },
    {
      "cell_type": "code",
      "source": [
        "print (dados.head())"
      ],
      "metadata": {
        "colab": {
          "base_uri": "https://localhost:8080/"
        },
        "id": "ouHEDXt8c8Nh",
        "outputId": "a1e18c35-ee29-4786-8020-66c657301bc9"
      },
      "execution_count": 6,
      "outputs": [
        {
          "output_type": "stream",
          "name": "stdout",
          "text": [
            "   order               name  height(cm)\n",
            "0      1  George Washington         189\n",
            "1      2         John Adams         170\n",
            "2      3   Thomas Jefferson         189\n",
            "3      4      James Madison         163\n",
            "4      5       James Monroe         183\n"
          ]
        }
      ]
    },
    {
      "cell_type": "code",
      "source": [
        "height = np.array(dados['height(cm)'])\n",
        "print (height)"
      ],
      "metadata": {
        "colab": {
          "base_uri": "https://localhost:8080/"
        },
        "id": "R0MKA4e2dGjJ",
        "outputId": "1197216d-81b6-4c5a-a634-977a4fde9f36"
      },
      "execution_count": 9,
      "outputs": [
        {
          "output_type": "stream",
          "name": "stdout",
          "text": [
            "[189 170 189 163 183 171 185 168 173 183 173 173 175 178 183 193 178 173\n",
            " 174 183 183 168 170 178 182 180 183 178 182 188 175 179 183 193 182 183\n",
            " 177 185 188 188 182 185]\n"
          ]
        }
      ]
    },
    {
      "cell_type": "code",
      "source": [
        "print ('Média das Alturas = ', height.mean())\n",
        "print ('Devios Padrão as Alturas = ', height.std())\n",
        "print ('Altura Mínima = ', height.min())\n",
        "print ('Altura Máxima = ', height.max())"
      ],
      "metadata": {
        "colab": {
          "base_uri": "https://localhost:8080/"
        },
        "id": "ogSTH191dlwp",
        "outputId": "85a61fa1-23dd-4aa3-a4da-57ed2c312591"
      },
      "execution_count": 10,
      "outputs": [
        {
          "output_type": "stream",
          "name": "stdout",
          "text": [
            "Média das Alturas =  179.73809523809524\n",
            "Devios Padrão as Alturas =  6.931843442745892\n",
            "Altura Mínima =  163\n",
            "Altura Máxima =  193\n"
          ]
        }
      ]
    },
    {
      "cell_type": "code",
      "source": [
        "print ('25% Percentil = ', np.percentile(height, 25))\n",
        "print ('Mediana = ', np.median(height))\n",
        "print ('75% Percentil = ', np.percentile(height, 75))"
      ],
      "metadata": {
        "colab": {
          "base_uri": "https://localhost:8080/"
        },
        "id": "QcJhRziQeJ79",
        "outputId": "3211cb31-300f-46c7-8aa8-739ea731e1e6"
      },
      "execution_count": 11,
      "outputs": [
        {
          "output_type": "stream",
          "name": "stdout",
          "text": [
            "25% Percentil =  174.25\n",
            "Mediana =  182.0\n",
            "75% Percentil =  183.0\n"
          ]
        }
      ]
    },
    {
      "cell_type": "code",
      "source": [
        "import matplotlib.pyplot as plt\n",
        "import seaborn as sns\n",
        "sns.set()"
      ],
      "metadata": {
        "id": "jBMcr6xIemes"
      },
      "execution_count": 12,
      "outputs": []
    },
    {
      "cell_type": "code",
      "source": [
        "plt.hist(height)\n",
        "plt.title('Distribuição de Altura dos Presidentes da EUA')\n",
        "plt.xlabel('height (cm)')\n",
        "plt.ylabel('Number')\n",
        "plt.show()"
      ],
      "metadata": {
        "colab": {
          "base_uri": "https://localhost:8080/",
          "height": 480
        },
        "id": "eDXNE9J8ewl0",
        "outputId": "1a9ddc45-5fc0-4405-fab0-3efc320d9005"
      },
      "execution_count": 13,
      "outputs": [
        {
          "output_type": "display_data",
          "data": {
            "text/plain": [
              "<Figure size 640x480 with 1 Axes>"
            ],
            "image/png": "[encoded data removed]"
          },
          "metadata": {}
        }
      ]
    }
  ]
}